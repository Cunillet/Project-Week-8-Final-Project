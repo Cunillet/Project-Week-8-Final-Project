{
 "cells": [
  {
   "cell_type": "code",
   "execution_count": 16,
   "metadata": {},
   "outputs": [],
   "source": [
    "from os import listdir, remove\n",
    "from os.path import isfile, join\n",
    "from PIL import Image\n",
    "import numpy as np\n",
    "import pandas as pd\n",
    "import os\n",
    "import cv2\n",
    "\n",
    "def read_paths_pillow(path):\n",
    "    elems = {}\n",
    "    count = 0\n",
    "    for file_name in listdir(path):\n",
    "        file_path = join(path, file_name)\n",
    "        if count > 100:\n",
    "            break\n",
    "        elif not isfile(file_path):\n",
    "            elems[file_name] = read_paths(file_path)\n",
    "\n",
    "        try:\n",
    "            img = np.array(Image.open(file_path))\n",
    "            name = os.path.basename(path)\n",
    "            if not name in elems:\n",
    "                elems[name] = [img]\n",
    "            else:\n",
    "                elems[name].append(img)\n",
    "        except IOError:\n",
    "            pass\n",
    "        count += 1\n",
    "\n",
    "    return elems\n",
    "\n",
    "def read_paths_cv2(path):\n",
    "    elems = {}\n",
    "    for file_name in listdir(path):\n",
    "        file_path = join(path, file_name)\n",
    "        if not isfile(file_path):\n",
    "            elems[file_name] = read_paths(file_path)\n",
    "\n",
    "        try:\n",
    "            img = img = cv2.imread(file_path)\n",
    "            gray = cv2.cvtColor(img, cv2.COLOR_BGR2GRAY)\n",
    "            name = os.path.basename(path)\n",
    "            if not name in elems:\n",
    "                elems[name] = [gray]\n",
    "            else:\n",
    "                elems[name].append(img)\n",
    "        except:\n",
    "            print(f'ERROR - {file_name}')\n",
    "\n",
    "    return elems"
   ]
  },
  {
   "cell_type": "code",
   "execution_count": 17,
   "metadata": {},
   "outputs": [
    {
     "name": "stdout",
     "output_type": "stream",
     "text": "start reading imgs....\nERROR - cat\nERROR - butterfly\nERROR - .DS_Store\nERROR - dog\nERROR - sheep\nERROR - spider\nERROR - chicken\nERROR - horse\nERROR - squirrel\nERROR - cow\nERROR - elephant\nend reading imgs\ndata transformed!\n"
    }
   ],
   "source": [
    "print('start reading imgs....')\n",
    "elems = read_paths_cv2('data/img')\n",
    "print('end reading imgs')\n",
    "df = pd.DataFrame(elems)\n",
    "print('data transformed!')"
   ]
  },
  {
   "cell_type": "code",
   "execution_count": null,
   "metadata": {},
   "outputs": [],
   "source": [
    "elems['cat']"
   ]
  },
  {
   "cell_type": "code",
   "execution_count": null,
   "metadata": {},
   "outputs": [],
   "source": []
  }
 ],
 "metadata": {
  "kernelspec": {
   "display_name": "Python 3",
   "language": "python",
   "name": "python3"
  },
  "language_info": {
   "codemirror_mode": {
    "name": "ipython",
    "version": 3
   },
   "file_extension": ".py",
   "mimetype": "text/x-python",
   "name": "python",
   "nbconvert_exporter": "python",
   "pygments_lexer": "ipython3",
   "version": "3.7.6-final"
  }
 },
 "nbformat": 4,
 "nbformat_minor": 2
}